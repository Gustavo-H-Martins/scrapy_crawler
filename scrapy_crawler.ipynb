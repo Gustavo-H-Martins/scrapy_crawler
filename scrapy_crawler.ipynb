{
 "cells": [
  {
   "cell_type": "code",
   "execution_count": 1,
   "id": "47f177cd",
   "metadata": {},
   "outputs": [
    {
     "name": "stdout",
     "output_type": "stream",
     "text": [
      "hello world!\n"
     ]
    }
   ],
   "source": [
    "print('hello world!')"
   ]
  },
  {
   "cell_type": "code",
   "execution_count": 1,
   "id": "175ba0bb",
   "metadata": {},
   "outputs": [],
   "source": [
    "def frutas():\n",
    "    return['banana', 'maçã', 'uva']"
   ]
  },
  {
   "cell_type": "code",
   "execution_count": 2,
   "id": "87615368",
   "metadata": {},
   "outputs": [
    {
     "data": {
      "text/plain": [
       "['banana', 'maçã', 'uva']"
      ]
     },
     "execution_count": 2,
     "metadata": {},
     "output_type": "execute_result"
    }
   ],
   "source": [
    "frutas()"
   ]
  },
  {
   "cell_type": "code",
   "execution_count": 3,
   "id": "9816a551",
   "metadata": {},
   "outputs": [
    {
     "name": "stdout",
     "output_type": "stream",
     "text": [
      "banana\n",
      "maçã\n",
      "uva\n"
     ]
    }
   ],
   "source": [
    "for fruta in frutas():\n",
    "    print(fruta)"
   ]
  },
  {
   "cell_type": "code",
   "execution_count": 8,
   "id": "cccdf758",
   "metadata": {},
   "outputs": [],
   "source": [
    "def frutas_yield():\n",
    "    yield 'banana'\n",
    "    print('yield 1')\n",
    "    yield 'maçã'\n",
    "    print('yield 2')\n",
    "    yield 'uva'\n",
    "    print('yield 3')"
   ]
  },
  {
   "cell_type": "code",
   "execution_count": 9,
   "id": "b985ef1d",
   "metadata": {},
   "outputs": [
    {
     "data": {
      "text/plain": [
       "<generator object frutas_yield at 0x000001A38AC83AC0>"
      ]
     },
     "execution_count": 9,
     "metadata": {},
     "output_type": "execute_result"
    }
   ],
   "source": [
    "frutas_yield()"
   ]
  },
  {
   "cell_type": "code",
   "execution_count": 10,
   "id": "4e6cfbd1",
   "metadata": {},
   "outputs": [
    {
     "name": "stdout",
     "output_type": "stream",
     "text": [
      "banana\n",
      "yield 1\n",
      "maçã\n",
      "yield 2\n",
      "uva\n",
      "yield 3\n"
     ]
    }
   ],
   "source": [
    "for fruta in frutas_yield():\n",
    "    print(fruta)"
   ]
  }
 ],
 "metadata": {
  "kernelspec": {
   "display_name": "venv",
   "language": "python",
   "name": "python3"
  },
  "language_info": {
   "codemirror_mode": {
    "name": "ipython",
    "version": 3
   },
   "file_extension": ".py",
   "mimetype": "text/x-python",
   "name": "python",
   "nbconvert_exporter": "python",
   "pygments_lexer": "ipython3",
   "version": "3.11.1"
  },
  "vscode": {
   "interpreter": {
    "hash": "86750fc870afc1c02f95ec8328e8a1b90d23eed71ada5c0a8aa291bd02fd8122"
   }
  }
 },
 "nbformat": 4,
 "nbformat_minor": 5
}
